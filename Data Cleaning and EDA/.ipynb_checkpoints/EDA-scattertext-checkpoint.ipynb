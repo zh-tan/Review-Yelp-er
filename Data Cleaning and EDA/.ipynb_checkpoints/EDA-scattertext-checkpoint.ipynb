{
 "cells": [
  {
   "cell_type": "code",
   "execution_count": 1,
   "metadata": {},
   "outputs": [],
   "source": [
    "import pandas as pd\n",
    "import os \n",
    "import scattertext\n",
    "import spacy"
   ]
  },
  {
   "cell_type": "code",
   "execution_count": 2,
   "metadata": {},
   "outputs": [],
   "source": [
    "review_star_1 = pd.read_csv('review_1_filtered_food.csv')\n",
    "review_star_5 = pd.read_csv('review_5_filtered_food.csv')"
   ]
  },
  {
   "cell_type": "code",
   "execution_count": 3,
   "metadata": {},
   "outputs": [],
   "source": [
    "review_star_1['rating'] = 'Low Rating'\n",
    "review_star_5['rating'] = 'High Rating'"
   ]
  },
  {
   "cell_type": "code",
   "execution_count": 36,
   "metadata": {},
   "outputs": [],
   "source": [
    "combined = pd.concat([review_star_1.sample(frac=0.1, replace=False, random_state=42), review_star_5.sample(frac=0.1, replace=False, random_state=42)])"
   ]
  },
  {
   "cell_type": "code",
   "execution_count": 38,
   "metadata": {},
   "outputs": [
    {
     "name": "stdout",
     "output_type": "stream",
     "text": [
      "122902\n",
      "151921\n"
     ]
    },
    {
     "data": {
      "text/plain": [
       "13741"
      ]
     },
     "execution_count": 38,
     "metadata": {},
     "output_type": "execute_result"
    }
   ],
   "source": [
    "print(len(review_star_1))\n",
    "print(len(review_star_5))\n",
    "len(combined)"
   ]
  },
  {
   "cell_type": "code",
   "execution_count": 39,
   "metadata": {},
   "outputs": [],
   "source": [
    "nlp = spacy.load('en_core_web_sm')"
   ]
  },
  {
   "cell_type": "code",
   "execution_count": null,
   "metadata": {},
   "outputs": [],
   "source": [
    "corpus_dataframe = combined\n",
    "\n",
    "corpus = (scattertext.CorpusFromPandas(combined,\n",
    "                                       category_col='rating', \n",
    "                                       text_col='text',\n",
    "                                       nlp=nlp)\n",
    "          .build()\n",
    "          .remove_terms(nlp.Defaults.stop_words, ignore_absences=True)\n",
    "          )\n",
    "\n",
    "\n",
    "html = scattertext.produce_scattertext_explorer(\n",
    "                   corpus,\n",
    "                   category='Low Rating',\n",
    "                   category_name='Low Rating',\n",
    "                   not_category_name='High Rating',\n",
    "                   width_in_pixels=1000)\n",
    "#                    metadata=corpus_dataframe['name'])"
   ]
  },
  {
   "cell_type": "code",
   "execution_count": null,
   "metadata": {},
   "outputs": [],
   "source": [
    "import numpy as np\n",
    "with open(\"scattertext_10.html\", \"w\") as f:\n",
    "    f.write(html)\n",
    "    f.close()"
   ]
  },
  {
   "cell_type": "code",
   "execution_count": 8,
   "metadata": {},
   "outputs": [],
   "source": [
    "def term_freq(df_yelp):\n",
    "    corpus = (scattertext.CorpusFromPandas(df_yelp,\n",
    "                                           category_col='rating', \n",
    "                                           text_col='text',\n",
    "                                           nlp=nlp)\n",
    "              .build()\n",
    "              .remove_terms(nlp.Defaults.stop_words, ignore_absences=True)\n",
    "              )\n",
    "    df = corpus.get_term_freq_df()\n",
    "    df['High_Rating_Score'] = corpus.get_scaled_f_scores('High Rating')\n",
    "    df['Low_Rating_Score'] = corpus.get_scaled_f_scores('Low Rating')\n",
    "    df['High_Rating_Score'] = round(df['High_Rating_Score'], 2)\n",
    "    df['Low_Rating_Score'] = round(df['Low_Rating_Score'], 2)\n",
    "    \n",
    "    df_high = df.sort_values(by='High Rating freq', \n",
    "                             ascending = False).reset_index()\n",
    "    df_low = df.sort_values(by='Low Rating freq', \n",
    "                            ascending=False).reset_index()\n",
    "    return df_high, df_low"
   ]
  },
  {
   "cell_type": "code",
   "execution_count": 17,
   "metadata": {},
   "outputs": [],
   "source": [
    "df_high, df_low = term_freq(combined)"
   ]
  },
  {
   "cell_type": "code",
   "execution_count": 18,
   "metadata": {},
   "outputs": [
    {
     "data": {
      "text/html": [
       "<div>\n",
       "<style scoped>\n",
       "    .dataframe tbody tr th:only-of-type {\n",
       "        vertical-align: middle;\n",
       "    }\n",
       "\n",
       "    .dataframe tbody tr th {\n",
       "        vertical-align: top;\n",
       "    }\n",
       "\n",
       "    .dataframe thead th {\n",
       "        text-align: right;\n",
       "    }\n",
       "</style>\n",
       "<table border=\"1\" class=\"dataframe\">\n",
       "  <thead>\n",
       "    <tr style=\"text-align: right;\">\n",
       "      <th></th>\n",
       "      <th>term</th>\n",
       "      <th>Low Rating freq</th>\n",
       "      <th>High Rating freq</th>\n",
       "      <th>High_Rating_Score</th>\n",
       "      <th>Low_Rating_Score</th>\n",
       "    </tr>\n",
       "  </thead>\n",
       "  <tbody>\n",
       "    <tr>\n",
       "      <th>0</th>\n",
       "      <td>food</td>\n",
       "      <td>128</td>\n",
       "      <td>93</td>\n",
       "      <td>0.10</td>\n",
       "      <td>0.90</td>\n",
       "    </tr>\n",
       "    <tr>\n",
       "      <th>1</th>\n",
       "      <td>place</td>\n",
       "      <td>65</td>\n",
       "      <td>72</td>\n",
       "      <td>0.85</td>\n",
       "      <td>0.15</td>\n",
       "    </tr>\n",
       "    <tr>\n",
       "      <th>2</th>\n",
       "      <td>time</td>\n",
       "      <td>42</td>\n",
       "      <td>70</td>\n",
       "      <td>0.90</td>\n",
       "      <td>0.10</td>\n",
       "    </tr>\n",
       "    <tr>\n",
       "      <th>3</th>\n",
       "      <td>of the</td>\n",
       "      <td>47</td>\n",
       "      <td>65</td>\n",
       "      <td>0.88</td>\n",
       "      <td>0.12</td>\n",
       "    </tr>\n",
       "    <tr>\n",
       "      <th>4</th>\n",
       "      <td>great</td>\n",
       "      <td>16</td>\n",
       "      <td>61</td>\n",
       "      <td>0.96</td>\n",
       "      <td>0.04</td>\n",
       "    </tr>\n",
       "    <tr>\n",
       "      <th>...</th>\n",
       "      <td>...</td>\n",
       "      <td>...</td>\n",
       "      <td>...</td>\n",
       "      <td>...</td>\n",
       "      <td>...</td>\n",
       "    </tr>\n",
       "    <tr>\n",
       "      <th>23364</th>\n",
       "      <td>few minutes</td>\n",
       "      <td>2</td>\n",
       "      <td>0</td>\n",
       "      <td>0.31</td>\n",
       "      <td>0.69</td>\n",
       "    </tr>\n",
       "    <tr>\n",
       "      <th>23365</th>\n",
       "      <td>entered</td>\n",
       "      <td>1</td>\n",
       "      <td>0</td>\n",
       "      <td>0.45</td>\n",
       "      <td>0.55</td>\n",
       "    </tr>\n",
       "    <tr>\n",
       "      <th>23366</th>\n",
       "      <td>he asked</td>\n",
       "      <td>1</td>\n",
       "      <td>0</td>\n",
       "      <td>0.45</td>\n",
       "      <td>0.55</td>\n",
       "    </tr>\n",
       "    <tr>\n",
       "      <th>23367</th>\n",
       "      <td>your order</td>\n",
       "      <td>1</td>\n",
       "      <td>0</td>\n",
       "      <td>0.45</td>\n",
       "      <td>0.55</td>\n",
       "    </tr>\n",
       "    <tr>\n",
       "      <th>23368</th>\n",
       "      <td>done though</td>\n",
       "      <td>1</td>\n",
       "      <td>0</td>\n",
       "      <td>0.45</td>\n",
       "      <td>0.55</td>\n",
       "    </tr>\n",
       "  </tbody>\n",
       "</table>\n",
       "<p>23369 rows × 5 columns</p>\n",
       "</div>"
      ],
      "text/plain": [
       "              term  Low Rating freq  High Rating freq  High_Rating_Score  \\\n",
       "0             food              128                93               0.10   \n",
       "1            place               65                72               0.85   \n",
       "2             time               42                70               0.90   \n",
       "3           of the               47                65               0.88   \n",
       "4            great               16                61               0.96   \n",
       "...            ...              ...               ...                ...   \n",
       "23364  few minutes                2                 0               0.31   \n",
       "23365      entered                1                 0               0.45   \n",
       "23366     he asked                1                 0               0.45   \n",
       "23367   your order                1                 0               0.45   \n",
       "23368  done though                1                 0               0.45   \n",
       "\n",
       "       Low_Rating_Score  \n",
       "0                  0.90  \n",
       "1                  0.15  \n",
       "2                  0.10  \n",
       "3                  0.12  \n",
       "4                  0.04  \n",
       "...                 ...  \n",
       "23364              0.69  \n",
       "23365              0.55  \n",
       "23366              0.55  \n",
       "23367              0.55  \n",
       "23368              0.55  \n",
       "\n",
       "[23369 rows x 5 columns]"
      ]
     },
     "execution_count": 18,
     "metadata": {},
     "output_type": "execute_result"
    }
   ],
   "source": [
    "df_high "
   ]
  }
 ],
 "metadata": {
  "kernelspec": {
   "display_name": "Python 3",
   "language": "python",
   "name": "python3"
  },
  "language_info": {
   "codemirror_mode": {
    "name": "ipython",
    "version": 3
   },
   "file_extension": ".py",
   "mimetype": "text/x-python",
   "name": "python",
   "nbconvert_exporter": "python",
   "pygments_lexer": "ipython3",
   "version": "3.6.10"
  }
 },
 "nbformat": 4,
 "nbformat_minor": 4
}
